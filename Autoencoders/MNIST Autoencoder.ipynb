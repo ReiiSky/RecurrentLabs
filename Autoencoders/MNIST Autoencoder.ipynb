{
 "cells": [
  {
   "cell_type": "code",
   "execution_count": 29,
   "metadata": {},
   "outputs": [],
   "source": [
    "import os\n",
    "import sys\n",
    "import platform\n",
    "\n",
    "import torch\n",
    "import torch.nn\n",
    "import torchvision.datasets\n",
    "\n",
    "\n",
    "from torch.optim import lr_scheduler\n",
    "from torch.autograd import Variable\n",
    "from torch.utils.data import DataLoader, Dataset\n",
    "from torchvision import transforms\n",
    "from torchvision.utils import make_grid"
   ]
  },
  {
   "cell_type": "code",
   "execution_count": 30,
   "metadata": {},
   "outputs": [
    {
     "name": "stdout",
     "output_type": "stream",
     "text": [
      "Python Version: 3.7.1\n",
      "Torch Version: 0.4.1\n"
     ]
    }
   ],
   "source": [
    "print(\"Python Version: {}\".format(platform.python_version()))\n",
    "print(\"Torch Version: {}\".format(torch.__version__))"
   ]
  },
  {
   "cell_type": "markdown",
   "metadata": {},
   "source": [
    "# Get MNIST Data"
   ]
  },
  {
   "cell_type": "code",
   "execution_count": 59,
   "metadata": {},
   "outputs": [],
   "source": [
    "mnistTrainData = torchvision.datasets.MNIST(\"Data\", download=True, train=True)\n",
    "mnistTestData = torchvision.datasets.MNIST(\"Data\", download=True, train=False)"
   ]
  },
  {
   "cell_type": "code",
   "execution_count": 31,
   "metadata": {},
   "outputs": [],
   "source": [
    "transform = transforms.Compose([transforms.ToPILImage(), \n",
    "                                transforms.Resize(256,256), \n",
    "                                transforms.ToTensor(), \n",
    "                                transforms.Normalize(mean=(0.5,), std=(0.5,))])"
   ]
  },
  {
   "cell_type": "markdown",
   "metadata": {},
   "source": [
    "# Autoencoder Model"
   ]
  },
  {
   "cell_type": "code",
   "execution_count": 33,
   "metadata": {},
   "outputs": [],
   "source": [
    "class Autoencoder(torch.nn.Module):\n",
    "    def __init__(self):\n",
    "        super(autoencoder, self).__init__()\n",
    "        self.encoder = nn.Sequential(nn.Linear(28 * 28, 128))\n",
    "        self.decoder = nn.Sequential(nn.Linear(128, 28 * 28), nn.Tanh())\n",
    "\n",
    "    def forward(self, x):\n",
    "        x = self.encoder(x)\n",
    "        x = self.decoder(x)\n",
    "        return x"
   ]
  },
  {
   "cell_type": "markdown",
   "metadata": {},
   "source": [
    "# Train Model"
   ]
  },
  {
   "cell_type": "code",
   "execution_count": null,
   "metadata": {},
   "outputs": [],
   "source": [
    "# model = autoencoder().cuda()\n",
    "# criterion = nn.MSELoss()\n",
    "# optimizer = torch.optim.Adam(\n",
    "#     model.parameters(), lr=learning_rate, weight_decay=1e-5)\n",
    "\n",
    "# for epoch in range(num_epochs):\n",
    "#     for data in dataloader:\n",
    "#         img, _ = data\n",
    "#         img = img.view(img.size(0), -1)\n",
    "#         img = Variable(img).cuda()\n",
    "#         # ===================forward=====================\n",
    "#         output = model(img)\n",
    "#         loss = criterion(output, img)\n",
    "#         # ===================backward====================\n",
    "#         optimizer.zero_grad()\n",
    "#         loss.backward()\n",
    "#         optimizer.step()\n",
    "#     # ===================log========================\n",
    "#     print('epoch [{}/{}], loss:{:.4f}'\n",
    "#           .format(epoch + 1, num_epochs, loss.data[0]))\n",
    "#     if epoch % 10 == 0:\n",
    "#         pic = to_img(output.cpu().data)\n",
    "#         save_image(pic, './mlp_img/image_{}.png'.format(epoch))\n",
    "\n",
    "# torch.save(model.state_dict(), './sim_autoencoder.pth')"
   ]
  },
  {
   "cell_type": "markdown",
   "metadata": {},
   "source": [
    "# Visualize Ouput"
   ]
  },
  {
   "cell_type": "code",
   "execution_count": null,
   "metadata": {},
   "outputs": [],
   "source": []
  },
  {
   "cell_type": "markdown",
   "metadata": {},
   "source": [
    "# Visualize Latent Properties"
   ]
  },
  {
   "cell_type": "code",
   "execution_count": null,
   "metadata": {},
   "outputs": [],
   "source": []
  }
 ],
 "metadata": {
  "kernelspec": {
   "display_name": "Python 3",
   "language": "python",
   "name": "python3"
  },
  "language_info": {
   "codemirror_mode": {
    "name": "ipython",
    "version": 3
   },
   "file_extension": ".py",
   "mimetype": "text/x-python",
   "name": "python",
   "nbconvert_exporter": "python",
   "pygments_lexer": "ipython3",
   "version": "3.7.1"
  }
 },
 "nbformat": 4,
 "nbformat_minor": 2
}
