{
 "cells": [
  {
   "cell_type": "code",
   "execution_count": 1,
   "metadata": {},
   "outputs": [],
   "source": [
    "import os\n",
    "import sys\n",
    "import platform\n",
    "\n",
    "import torch\n",
    "import torch.nn\n",
    "import torchvision.datasets\n",
    "\n",
    "\n",
    "from torch.optim import lr_scheduler\n",
    "from torch.autograd import Variable\n",
    "from torch.utils.data import DataLoader, Dataset\n",
    "from torchvision import transforms\n",
    "from torchvision.utils import make_grid\n",
    "from torchvision.utils import save_image"
   ]
  },
  {
   "cell_type": "code",
   "execution_count": 2,
   "metadata": {},
   "outputs": [
    {
     "name": "stdout",
     "output_type": "stream",
     "text": [
      "Python Version: 3.7.1\n",
      "Torch Version: 0.4.1\n"
     ]
    }
   ],
   "source": [
    "print(\"Python Version: {}\".format(platform.python_version()))\n",
    "print(\"Torch Version: {}\".format(torch.__version__))"
   ]
  },
  {
   "cell_type": "markdown",
   "metadata": {},
   "source": [
    "# Get MNIST Data"
   ]
  },
  {
   "cell_type": "code",
   "execution_count": 3,
   "metadata": {},
   "outputs": [],
   "source": [
    "num_epochs = 11\n",
    "batch_size = 128\n",
    "imageSize = 28\n",
    "underCompleteHiddenLayer = 64\n",
    "overCompleteHiddenLayer = 1600\n",
    "learning_rate = 1e-3"
   ]
  },
  {
   "cell_type": "code",
   "execution_count": 4,
   "metadata": {},
   "outputs": [],
   "source": [
    "transform = transforms.Compose([transforms.ToTensor(), transforms.Normalize(mean=(0.5,), std=(0.5,))])"
   ]
  },
  {
   "cell_type": "code",
   "execution_count": 5,
   "metadata": {},
   "outputs": [],
   "source": [
    "mnistTrainData = torchvision.datasets.MNIST(\"Data\", download=True, train=True, transform=transform)\n",
    "mnistTestData = torchvision.datasets.MNIST(\"Data\", download=True, train=False, transform=transform)"
   ]
  },
  {
   "cell_type": "code",
   "execution_count": 6,
   "metadata": {},
   "outputs": [
    {
     "name": "stdout",
     "output_type": "stream",
     "text": [
      "Number of Training Samples: 60000\n",
      "Number of Testing Samples: 10000\n"
     ]
    }
   ],
   "source": [
    "print(\"Number of Training Samples: {}\".format(len(mnistTrainData)))\n",
    "print(\"Number of Testing Samples: {}\".format(len(mnistTestData)))"
   ]
  },
  {
   "cell_type": "code",
   "execution_count": 7,
   "metadata": {},
   "outputs": [],
   "source": [
    "trainDataLoader = torch.utils.data.DataLoader(mnistTrainData, batch_size=batch_size, shuffle=True)\n",
    "testDataLoader = torch.utils.data.DataLoader(mnistTestData, batch_size=batch_size, shuffle=True)"
   ]
  },
  {
   "cell_type": "markdown",
   "metadata": {},
   "source": [
    "# Autoencoder Model"
   ]
  },
  {
   "cell_type": "code",
   "execution_count": 8,
   "metadata": {},
   "outputs": [],
   "source": [
    "class Autoencoder(torch.nn.Module):\n",
    "    def __init__(self, hiddenLayer):\n",
    "        super(Autoencoder, self).__init__()\n",
    "        self.encoder = torch.nn.Sequential(torch.nn.Linear(28 * 28, hiddenLayer))\n",
    "        self.decoder = torch.nn.Sequential(torch.nn.Linear(hiddenLayer, 28 * 28), torch.nn.Tanh())\n",
    "\n",
    "    def forward(self, x):\n",
    "        x = self.encoder(x)\n",
    "        x = self.decoder(x)\n",
    "        return x"
   ]
  },
  {
   "cell_type": "markdown",
   "metadata": {},
   "source": [
    "# Train Model"
   ]
  },
  {
   "cell_type": "code",
   "execution_count": 9,
   "metadata": {},
   "outputs": [],
   "source": [
    "def to_img(x):\n",
    "    x = 0.5 * (x + 1)\n",
    "    x = x.clamp(0, 1)\n",
    "    x = x.view(x.size(0), 1, 28, 28)\n",
    "    return x"
   ]
  },
  {
   "cell_type": "code",
   "execution_count": 10,
   "metadata": {},
   "outputs": [],
   "source": [
    "def Train(epochs, hiddenLayer, trainDataLoader):\n",
    "    model = Autoencoder(hiddenLayer)\n",
    "    criterion = torch.nn.MSELoss()\n",
    "    optimizer = torch.optim.Adam(model.parameters(), lr=learning_rate, weight_decay=1e-5)\n",
    "\n",
    "    for epoch in range(epochs):\n",
    "        for batch_idx, (data, target) in enumerate(trainDataLoader):\n",
    "            img = data.view(data.size(0), -1)\n",
    "            img = Variable(img)\n",
    "\n",
    "            output = model(img)\n",
    "            loss = criterion(output, img)\n",
    "\n",
    "            optimizer.zero_grad()\n",
    "            loss.backward()\n",
    "            optimizer.step()\n",
    "\n",
    "        print('epoch [{}/{}], loss:{:.4f}'.format(epoch + 1, num_epochs, loss.data.item()))\n",
    "        if epoch % 10 == 0:\n",
    "            pic = to_img(output.cpu().data)\n",
    "            save_image(pic, 'image_{}_{}.png'.format(hiddenLayer, epoch))\n",
    "    "
   ]
  },
  {
   "cell_type": "code",
   "execution_count": 11,
   "metadata": {},
   "outputs": [
    {
     "name": "stdout",
     "output_type": "stream",
     "text": [
      "epoch [1/11], loss:0.0488\n",
      "epoch [2/11], loss:0.0275\n",
      "epoch [3/11], loss:0.0267\n",
      "epoch [4/11], loss:0.0217\n",
      "epoch [5/11], loss:0.0189\n",
      "epoch [6/11], loss:0.0169\n",
      "epoch [7/11], loss:0.0161\n",
      "epoch [8/11], loss:0.0140\n",
      "epoch [9/11], loss:0.0160\n",
      "epoch [10/11], loss:0.0172\n",
      "epoch [11/11], loss:0.0152\n"
     ]
    }
   ],
   "source": [
    "Train(11, underCompleteHiddenLayer, trainDataLoader)"
   ]
  },
  {
   "cell_type": "code",
   "execution_count": 12,
   "metadata": {},
   "outputs": [
    {
     "name": "stdout",
     "output_type": "stream",
     "text": [
      "epoch [1/11], loss:0.0076\n",
      "epoch [2/11], loss:0.0055\n",
      "epoch [3/11], loss:0.0052\n",
      "epoch [4/11], loss:0.0044\n",
      "epoch [5/11], loss:0.0047\n",
      "epoch [6/11], loss:0.0046\n",
      "epoch [7/11], loss:0.0047\n",
      "epoch [8/11], loss:0.0049\n",
      "epoch [9/11], loss:0.0048\n",
      "epoch [10/11], loss:0.0048\n",
      "epoch [11/11], loss:0.0054\n"
     ]
    }
   ],
   "source": [
    "Train(11, overCompleteHiddenLayer, trainDataLoader)"
   ]
  },
  {
   "cell_type": "markdown",
   "metadata": {},
   "source": [
    "# Visualize Ouput"
   ]
  },
  {
   "cell_type": "code",
   "execution_count": 13,
   "metadata": {},
   "outputs": [],
   "source": [
    "# mnistTrainData[4][1]"
   ]
  },
  {
   "cell_type": "code",
   "execution_count": 14,
   "metadata": {},
   "outputs": [],
   "source": [
    "# x = torch.nn.Tanh()(model.encoder(mnistTrainData[3][0].view(-1)))\n",
    "# ?x = (model.encoder(mnistTrainData[4][0].view(-1))"
   ]
  },
  {
   "cell_type": "code",
   "execution_count": 15,
   "metadata": {},
   "outputs": [],
   "source": [
    "# x = 0.5 * (x + 1)\n",
    "# x = x.clamp(0, 1)\n",
    "# x = x.view(1, 1, 20, 20)\n",
    "# save_image(x, 'test.png'.format(epoch))"
   ]
  },
  {
   "cell_type": "code",
   "execution_count": 16,
   "metadata": {},
   "outputs": [],
   "source": [
    "# x = model(mnistTrainData[3][0].view(-1))"
   ]
  },
  {
   "cell_type": "code",
   "execution_count": 17,
   "metadata": {},
   "outputs": [],
   "source": [
    "# x = 0.5 * (x + 1)\n",
    "# x = x.clamp(0, 1)\n",
    "# x = x.view(1, 1, 28, 28)\n",
    "# save_image(x, 'test2.png'.format(epoch))"
   ]
  },
  {
   "cell_type": "markdown",
   "metadata": {},
   "source": [
    "# Visualize Latent Properties"
   ]
  },
  {
   "cell_type": "code",
   "execution_count": null,
   "metadata": {},
   "outputs": [],
   "source": []
  }
 ],
 "metadata": {
  "kernelspec": {
   "display_name": "Python 3",
   "language": "python",
   "name": "python3"
  },
  "language_info": {
   "codemirror_mode": {
    "name": "ipython",
    "version": 3
   },
   "file_extension": ".py",
   "mimetype": "text/x-python",
   "name": "python",
   "nbconvert_exporter": "python",
   "pygments_lexer": "ipython3",
   "version": "3.7.1"
  }
 },
 "nbformat": 4,
 "nbformat_minor": 2
}
