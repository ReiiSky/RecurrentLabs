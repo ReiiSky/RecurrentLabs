{
 "cells": [
  {
   "cell_type": "markdown",
   "metadata": {},
   "source": [
    "# Building a Neural Network from Scratch"
   ]
  },
  {
   "cell_type": "code",
   "execution_count": 2,
   "metadata": {},
   "outputs": [],
   "source": [
    "import math\n",
    "import csv\n",
    "import random \n",
    "import time\n",
    "import numpy"
   ]
  },
  {
   "cell_type": "code",
   "execution_count": 3,
   "metadata": {},
   "outputs": [],
   "source": [
    "#### Miscellaneous functions\n",
    "def Sigmoid(z):\n",
    "    \"\"\"The sigmoid function.\"\"\"\n",
    "    return 1.0/(1.0+numpy.exp(-z))\n",
    "\n",
    "def SigmoidPrime(z):\n",
    "    \"\"\"Derivative of the sigmoid function.\"\"\"\n",
    "    return Sigmoid(z)*(1-Sigmoid(z))"
   ]
  },
  {
   "cell_type": "code",
   "execution_count": 10,
   "metadata": {},
   "outputs": [],
   "source": [
    "class Network(object):\n",
    "\n",
    "    def __init__(self, sizes):\n",
    "        self.num_layers = len(sizes)\n",
    "        self.sizes = sizes\n",
    "        self.biases = [numpy.random.randn(y, 1) for y in sizes[1:]]\n",
    "        self.weights = [numpy.random.randn(y, x) for x, y in zip(sizes[:-1], sizes[1:])]\n",
    "\n",
    "    def feedforward(self, a):\n",
    "        for b, w in zip(self.biases, self.weights):\n",
    "            a = Sigmoid(numpy.dot(w, a)+b)\n",
    "        return a\n",
    "\n",
    "    def Train(self, trainingData, epoch, batchSize, learningRate, testingData):\n",
    "\n",
    "        testDataSize = len(testingData)\n",
    "        trainDataSize = len(trainingData)\n",
    "        for i in range(epoch):\n",
    "\n",
    "            random.shuffle(trainingData)\n",
    "            nabla_b = [numpy.zeros(b.shape) for b in self.biases]\n",
    "            nabla_w = [numpy.zeros(w.shape) for w in self.weights]\n",
    "\n",
    "            for j in range(0, trainDataSize, batchSize):\n",
    "\n",
    "                nabla_b = [numpy.zeros(b.shape) for b in self.biases]\n",
    "                nabla_w = [numpy.zeros(w.shape) for w in self.weights]\n",
    "                miniBatchSize = 0\n",
    "                \n",
    "                for x, y in trainingData[j:j+batchSize]:\n",
    "                    delta_nabla_b, delta_nabla_w = self.Backpropagation(x, y)\n",
    "\n",
    "                    nabla_b = [(delta_nabla_b_row + nabla_b_row) for delta_nabla_b_row, nabla_b_row in zip(delta_nabla_b, nabla_b)]\n",
    "                    nabla_w = [(delta_nabla_w_row + nabla_w_row) for delta_nabla_w_row, nabla_w_row in zip(delta_nabla_w, nabla_w)]\n",
    "                    \n",
    "                    miniBatchSize = miniBatchSize + 1\n",
    "\n",
    "                self.weights = [w_layer-(learningRate/miniBatchSize)*nw_layer for w_layer, nw_layer in zip(self.weights, nabla_w)]\n",
    "                self.biases = [b_layer -(learningRate/miniBatchSize)*nb_layer for b_layer, nb_layer in zip(self.biases, nabla_b)]\n",
    "\n",
    "                if testingData:\n",
    "                    print (\"Epoch {0}: {1} / {2}\".format(i, self.evaluate(testingData), testDataSize))\n",
    "                else:\n",
    "                    print (\"Epoch {0} complete\".format(j))\n",
    "\n",
    "    def update_mini_batch(self, mini_batch, eta):\n",
    "        nabla_b = [numpy.zeros(b.shape) for b in self.biases]\n",
    "        nabla_w = [numpy.zeros(w.shape) for w in self.weights]\n",
    "        for x, y in mini_batch:\n",
    "            delta_nabla_b, delta_nabla_w = self.backprop(x, y)\n",
    "            nabla_b = [nb+dnb for nb, dnb in zip(nabla_b, delta_nabla_b)]\n",
    "            nabla_w = [nw+dnw for nw, dnw in zip(nabla_w, delta_nabla_w)]\n",
    "            self.weights = [w-(eta/len(mini_batch))*nw for w, nw in zip(self.weights, nabla_w)]\n",
    "            self.biases = [b-(eta/len(mini_batch))*nb for b, nb in zip(self.biases, nabla_b)]\n",
    "\n",
    "\n",
    "    def Backpropagation(self, x, y):\n",
    "        #Change in Biases\n",
    "        nabla_b = [numpy.zeros(b.shape) for b in self.biases]\n",
    "\n",
    "        #Change in Weights\n",
    "        nabla_w = [numpy.zeros(w.shape) for w in self.weights]\n",
    "\n",
    "        activations = []\n",
    "        activations.append(x)\n",
    "        zs = []\n",
    "\n",
    "        for index, (weights, bias) in enumerate(zip(self.weights, self.biases)):\n",
    "            individualWeightedSum = numpy.dot(weights, activations[index]) + bias\n",
    "            zs.append(individualWeightedSum)\n",
    "            activation = Sigmoid(individualWeightedSum)\n",
    "            activations.append(activation)\n",
    "\n",
    "        sigmodPrime = SigmoidPrime(zs[-1])\n",
    "        delta = self.CostDerivative(activations[-1], y) * sigmodPrime \n",
    "\n",
    "        nabla_b[-1] = delta\n",
    "        nabla_w[-1] = numpy.dot(delta, activations[-2].transpose())\n",
    "\n",
    "        for l in range(2, len(self.weights)):\n",
    "            z = zs[-l]\n",
    "            sp = SigmodPrime(z)\n",
    "            delta = numpy.dot(self.weights[-l+1], delta) * sp\n",
    "            nabla_b[-l] = delta\n",
    "            nabla_w[-l] = numpy.dot(delta, activations[-l].transpose())\n",
    "\n",
    "        return (nabla_b, nabla_w)\n",
    "\n",
    "    def evaluate(self, test_data):\n",
    "        test_results = [(numpy.argmax(self.feedforward(x)), y) for (x, y) in test_data]\n",
    "        return sum(int(x == y) for (x, y) in test_results)\n",
    "\n",
    "    def CostDerivative(self, output_activations, y):\n",
    "        return (output_activations-y)\n"
   ]
  },
  {
   "cell_type": "code",
   "execution_count": 11,
   "metadata": {},
   "outputs": [
    {
     "ename": "NameError",
     "evalue": "name 'mnist_loader' is not defined",
     "output_type": "error",
     "traceback": [
      "\u001b[0;31m---------------------------------------------------------------------------\u001b[0m",
      "\u001b[0;31mNameError\u001b[0m                                 Traceback (most recent call last)",
      "\u001b[0;32m<ipython-input-11-358ca21d9019>\u001b[0m in \u001b[0;36m<module>\u001b[0;34m\u001b[0m\n\u001b[1;32m      1\u001b[0m \u001b[0;34m\u001b[0m\u001b[0m\n\u001b[0;32m----> 2\u001b[0;31m \u001b[0mtrainingData\u001b[0m\u001b[0;34m,\u001b[0m \u001b[0mvalidationData\u001b[0m\u001b[0;34m,\u001b[0m \u001b[0mtestingData\u001b[0m \u001b[0;34m=\u001b[0m \u001b[0mmnist_loader\u001b[0m\u001b[0;34m.\u001b[0m\u001b[0mload_data_wrapper\u001b[0m\u001b[0;34m(\u001b[0m\u001b[0;34m)\u001b[0m\u001b[0;34m\u001b[0m\u001b[0;34m\u001b[0m\u001b[0m\n\u001b[0m\u001b[1;32m      3\u001b[0m \u001b[0mtrainingData\u001b[0m \u001b[0;34m=\u001b[0m \u001b[0mlist\u001b[0m\u001b[0;34m(\u001b[0m\u001b[0mtrainingData\u001b[0m\u001b[0;34m)\u001b[0m\u001b[0;34m\u001b[0m\u001b[0;34m\u001b[0m\u001b[0m\n\u001b[1;32m      4\u001b[0m \u001b[0mtestingData\u001b[0m \u001b[0;34m=\u001b[0m \u001b[0mlist\u001b[0m\u001b[0;34m(\u001b[0m\u001b[0mtestingData\u001b[0m\u001b[0;34m)\u001b[0m\u001b[0;34m\u001b[0m\u001b[0;34m\u001b[0m\u001b[0m\n\u001b[1;32m      5\u001b[0m \u001b[0;34m\u001b[0m\u001b[0m\n",
      "\u001b[0;31mNameError\u001b[0m: name 'mnist_loader' is not defined"
     ]
    }
   ],
   "source": [
    "\n",
    "trainingData, validationData, testingData = mnist_loader.load_data_wrapper()\n",
    "trainingData = list(trainingData)\n",
    "testingData = list(testingData)\n",
    "\n",
    "network = Network([784,200, 10])\n",
    "\n",
    "network.Train(trainingData, 10000, 1000, 1.5, testingData)"
   ]
  },
  {
   "cell_type": "code",
   "execution_count": null,
   "metadata": {},
   "outputs": [],
   "source": []
  }
 ],
 "metadata": {
  "kernelspec": {
   "display_name": "Python 3",
   "language": "python",
   "name": "python3"
  },
  "language_info": {
   "codemirror_mode": {
    "name": "ipython",
    "version": 3
   },
   "file_extension": ".py",
   "mimetype": "text/x-python",
   "name": "python",
   "nbconvert_exporter": "python",
   "pygments_lexer": "ipython3",
   "version": "3.7.1"
  }
 },
 "nbformat": 4,
 "nbformat_minor": 2
}
