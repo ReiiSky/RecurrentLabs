{
 "cells": [
  {
   "cell_type": "markdown",
   "metadata": {},
   "source": [
    "# Linear Regression"
   ]
  },
  {
   "cell_type": "markdown",
   "metadata": {},
   "source": [
    "When trying to find the line of best for linear equations, we typically use the least square method. We could also iterate over the data like we would with neural network, minizing the loss, and try to approxiate the line of best fit. This notebook with estimate the line of best fit using Stochasit Gradient Descent and compare it with the least square."
   ]
  },
  {
   "cell_type": "markdown",
   "metadata": {},
   "source": [
    "Import Libaries"
   ]
  },
  {
   "cell_type": "code",
   "execution_count": 1,
   "metadata": {},
   "outputs": [],
   "source": [
    "import os\n",
    "import math\n",
    "import numpy\n",
    "import matplotlib.pyplot"
   ]
  },
  {
   "cell_type": "code",
   "execution_count": 2,
   "metadata": {},
   "outputs": [],
   "source": [
    "scale = 8.0\n",
    "start = 0.0\n",
    "end = 50.0\n",
    "increment = 1\n",
    "epoch = 25\n",
    "graphDirectory = \"Graphs\"\n",
    "\n",
    "#Randomly Generate Data\n",
    "xDataSet = numpy.arange(start, end, increment)\n",
    "yDataSet = numpy.array([(i+numpy.random.normal(scale=scale)+5) for i in xDataSet])\n",
    "\n",
    "#Get Averages for Dataset\n",
    "xAverage = numpy.average(xDataSet)\n",
    "yAverage = numpy.average(yDataSet)\n",
    "\n",
    "numerator = 0.0\n",
    "denominator = 0.0"
   ]
  },
  {
   "cell_type": "code",
   "execution_count": 3,
   "metadata": {},
   "outputs": [],
   "source": [
    "def CreateGraph( xDataSet, yDataSet, a, b, filePath, show=False, save=False, color='g'):\n",
    "    start = xDataSet[0]\n",
    "    end = xDataSet[-1]\n",
    "    \n",
    "    yStart = a + (start * b)\n",
    "    yEnd = a + (end * b)\n",
    "    \n",
    "    matplotlib.pyplot.clf()\n",
    "    matplotlib.pyplot.plot([start, end], [yStart, yEnd], color=color)\n",
    "    matplotlib.pyplot.scatter(xDataSet,yDataSet)\n",
    "    \n",
    "    if(save):\n",
    "        matplotlib.pyplot.savefig(filePath)\n",
    "    \n",
    "    if(show):\n",
    "        matplotlib.pyplot.show()"
   ]
  },
  {
   "cell_type": "code",
   "execution_count": 4,
   "metadata": {},
   "outputs": [],
   "source": [
    "def MSE(xDataSet, yDataSet, aCurrent, bCurrent):\n",
    "    mse = 0.0\n",
    "    for x,y in zip(xDataSet, yDataSet):\n",
    "        mse += math.pow((y - (aCurrent + (bCurrent * x))), 2)\n",
    "    return mse/(len(xDataSet))"
   ]
  },
  {
   "cell_type": "markdown",
   "metadata": {},
   "source": [
    "# Using Batch Gradient Descent"
   ]
  },
  {
   "cell_type": "code",
   "execution_count": 5,
   "metadata": {},
   "outputs": [],
   "source": [
    "def GradientDescent(aCurrent, bCurrent, xDataSet, yDataSet, learningRate):\n",
    "    aGradient = 0.0\n",
    "    bGradient = 0.0\n",
    "    for x,y in zip(xDataSet, yDataSet):\n",
    "        aGradient += -(2/len(xDataSet)) * (y - ((bCurrent*x) + aCurrent))\n",
    "        bGradient += -(2/len(xDataSet)) * x * (y - ((bCurrent * x) + aCurrent))\n",
    "    aNew = aCurrent - (learningRate * aGradient)\n",
    "    bNew = bCurrent - (learningRate * bGradient)\n",
    "    return [aNew, bNew]"
   ]
  },
  {
   "cell_type": "markdown",
   "metadata": {},
   "source": [
    "Randomly select A and B, this could be thoughts as initialzing the weights, iterate over the data, update the weights"
   ]
  },
  {
   "cell_type": "code",
   "execution_count": 6,
   "metadata": {},
   "outputs": [
    {
     "name": "stdout",
     "output_type": "stream",
     "text": [
      "A: -0.22581465820712027\n",
      "B: -0.9649564276184202\n"
     ]
    },
    {
     "data": {
      "image/png": "[encoded data removed]",
      "text/plain": [
       "<Figure size 432x288 with 1 Axes>"
      ]
     },
     "metadata": {
      "needs_background": "light"
     },
     "output_type": "display_data"
    },
    {
     "name": "stdout",
     "output_type": "stream",
     "text": [
      "A: -0.15749531892553068\n",
      "B: 1.0982553357992926\n"
     ]
    },
    {
     "data": {
      "image/png": "[encoded data removed]",
      "text/plain": [
       "<Figure size 432x288 with 1 Axes>"
      ]
     },
     "metadata": {
      "needs_background": "light"
     },
     "output_type": "display_data"
    }
   ],
   "source": [
    "startingA = numpy.random.normal();\n",
    "startingB = numpy.random.normal();\n",
    "\n",
    "print(\"A: {}\".format(startingA))\n",
    "print(\"B: {}\".format(startingB))\n",
    "\n",
    "fileName = \"batchGradientDescent_0.png\"\n",
    "filePath = os.path.join(graphDirectory, fileName)\n",
    "CreateGraph(xDataSet, yDataSet, startingA, startingB, filePath, show=True, save=True)\n",
    "errors = []\n",
    "\n",
    "for i in range(epoch):\n",
    "    fileName = \"batchGradientDescent_{}.png\".format(i)\n",
    "    filePath = os.path.join(graphDirectory, fileName)\n",
    "    errors.append(MSE(xDataSet, yDataSet, startingA, startingB))\n",
    "    startingA, startingB = GradientDescent(startingA, startingB, xDataSet, yDataSet, .0001)\n",
    "    CreateGraph(xDataSet, yDataSet, startingA, startingB, filePath, save=True)\n",
    "    \n",
    "print(\"A: {}\".format(startingA))\n",
    "print(\"B: {}\".format(startingB))\n",
    "CreateGraph(xDataSet, yDataSet, startingA, startingB, filePath, show=True)    "
   ]
  },
  {
   "cell_type": "code",
   "execution_count": 7,
   "metadata": {},
   "outputs": [
    {
     "data": {
      "text/plain": [
       "<matplotlib.collections.PathCollection at 0x11309a0f0>"
      ]
     },
     "execution_count": 7,
     "metadata": {},
     "output_type": "execute_result"
    },
    {
     "data": {
      "image/png": "[encoded data removed]",
      "text/plain": [
       "<Figure size 432x288 with 1 Axes>"
      ]
     },
     "metadata": {
      "needs_background": "light"
     },
     "output_type": "display_data"
    }
   ],
   "source": [
    "matplotlib.pyplot.clf()\n",
    "matplotlib.pyplot.scatter(range(epoch), errors)"
   ]
  },
  {
   "cell_type": "markdown",
   "metadata": {},
   "source": [
    "# Using Least Squares"
   ]
  },
  {
   "cell_type": "code",
   "execution_count": 8,
   "metadata": {},
   "outputs": [],
   "source": [
    "for x,y in zip(xDataSet, yDataSet):\n",
    "    numerator += (x - xAverage)*(y - yAverage)\n",
    "    denominator += math.pow((x - xAverage), 2)\n",
    "\n",
    "b = (numerator/denominator)\n",
    "a = yAverage - (xAverage * b)\n",
    "\n",
    "leastSquares = 0.0\n",
    "leastSquaresGD = 0.0\n",
    "\n",
    "y1 = (b * start) + a\n",
    "y2 = (b * end) + a"
   ]
  },
  {
   "cell_type": "code",
   "execution_count": 9,
   "metadata": {},
   "outputs": [
    {
     "name": "stdout",
     "output_type": "stream",
     "text": [
      "A: 4.326610467209665\n",
      "B: 0.9876424401368751\n"
     ]
    },
    {
     "data": {
      "image/png": "[encoded data removed]",
      "text/plain": [
       "<Figure size 432x288 with 1 Axes>"
      ]
     },
     "metadata": {
      "needs_background": "light"
     },
     "output_type": "display_data"
    }
   ],
   "source": [
    "print(\"A: {}\".format(a))\n",
    "print(\"B: {}\".format(b))\n",
    "fileName = \"linearRegression.png\".format(i)\n",
    "filePath = os.path.join(graphDirectory, fileName)\n",
    "CreateGraph(xDataSet, yDataSet, a, b, filePath, color='r', save=True)"
   ]
  },
  {
   "cell_type": "markdown",
   "metadata": {},
   "source": [
    "# Mean Squared Error"
   ]
  },
  {
   "cell_type": "code",
   "execution_count": 10,
   "metadata": {},
   "outputs": [],
   "source": [
    "leastSquares = MSE(xDataSet, yDataSet, a, b)\n",
    "leastSquaresGD = MSE(xDataSet, yDataSet, startingA, startingB)"
   ]
  },
  {
   "cell_type": "code",
   "execution_count": 11,
   "metadata": {},
   "outputs": [
    {
     "name": "stdout",
     "output_type": "stream",
     "text": [
      "Least Square MSE: 50.53986954906849\n",
      "Gradient Descent MSE: 56.235247360027806\n"
     ]
    }
   ],
   "source": [
    "print(\"Least Square MSE: {}\".format(leastSquares))\n",
    "print(\"Gradient Descent MSE: {}\".format(leastSquaresGD))"
   ]
  },
  {
   "cell_type": "code",
   "execution_count": null,
   "metadata": {},
   "outputs": [],
   "source": []
  }
 ],
 "metadata": {
  "kernelspec": {
   "display_name": "Python 3",
   "language": "python",
   "name": "python3"
  },
  "language_info": {
   "codemirror_mode": {
    "name": "ipython",
    "version": 3
   },
   "file_extension": ".py",
   "mimetype": "text/x-python",
   "name": "python",
   "nbconvert_exporter": "python",
   "pygments_lexer": "ipython3",
   "version": "3.7.1"
  }
 },
 "nbformat": 4,
 "nbformat_minor": 2
}
