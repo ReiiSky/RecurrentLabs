{
 "cells": [
  {
   "cell_type": "markdown",
   "metadata": {},
   "source": [
    "# Linear Regression"
   ]
  },
  {
   "cell_type": "markdown",
   "metadata": {},
   "source": [
    "Import Libaries"
   ]
  },
  {
   "cell_type": "code",
   "execution_count": 1,
   "metadata": {},
   "outputs": [],
   "source": [
    "import numpy\n",
    "import math\n",
    "import matplotlib.pyplot"
   ]
  },
  {
   "cell_type": "code",
   "execution_count": 2,
   "metadata": {},
   "outputs": [],
   "source": [
    "scale = 8.0\n",
    "start = 0.0\n",
    "end = 50.0\n",
    "increment = 1\n",
    "epoch = 20\n",
    "\n",
    "#Randomly Generate Data\n",
    "xDataSet = numpy.arange(start, end, increment)\n",
    "yDataSet = numpy.array([(i+numpy.random.normal(scale=scale)+5) for i in xDataSet])\n",
    "\n",
    "#Get Averages for Dataset\n",
    "xAverage = numpy.average(xDataSet)\n",
    "yAverage = numpy.average(yDataSet)\n",
    "\n",
    "numerator = 0.0\n",
    "denominator = 0.0"
   ]
  },
  {
   "cell_type": "markdown",
   "metadata": {},
   "source": [
    "# Using Batch Gradient Descent"
   ]
  },
  {
   "cell_type": "code",
   "execution_count": 4,
   "metadata": {},
   "outputs": [],
   "source": [
    "def GradientDescent(aCurrent, bCurrent, xDataSet, yDataSet, learningRate):\n",
    "    aGradient = 0.0\n",
    "    bGradient = 0.0\n",
    "    #N = float(zip(xDataSet))\n",
    "    for x,y in zip(xDataSet, yDataSet):\n",
    "        aGradient += -(2/len(xDataSet)) * (y - ((bCurrent*x) + aCurrent))\n",
    "        bGradient += -(2/len(xDataSet)) * x * (y - ((bCurrent * x) + aCurrent))\n",
    "    aNew = aCurrent - (learningRate * aGradient)\n",
    "    bNew = bCurrent - (learningRate * bGradient)\n",
    "    return [aNew, bNew]"
   ]
  },
  {
   "cell_type": "code",
   "execution_count": 5,
   "metadata": {},
   "outputs": [
    {
     "name": "stdout",
     "output_type": "stream",
     "text": [
      "A: -0.3725666939694733\n",
      "B: -1.7608177612096785\n"
     ]
    },
    {
     "data": {
      "image/png": "[encoded data removed]",
      "text/plain": [
       "<Figure size 432x288 with 1 Axes>"
      ]
     },
     "metadata": {
      "needs_background": "light"
     },
     "output_type": "display_data"
    }
   ],
   "source": [
    "startingA = numpy.random.normal();\n",
    "startingB = numpy.random.normal();\n",
    "\n",
    "print(\"A: \" + str(startingA))\n",
    "print(\"B: \" + str(startingB))\n",
    "\n",
    "matplotlib.pyplot.clf()\n",
    "matplotlib.pyplot.plot([start, end],[(startingA + (start * startingB)), (startingA + (end * startingB))], color='g')\n",
    "matplotlib.pyplot.scatter(xDataSet,yDataSet)\n",
    "matplotlib.pyplot.show()\n",
    "#matplotlib.pyplot.savefig(\"sgd\" + str(0) + \".png\")\n",
    "\n",
    "for i in range(epoch):\n",
    "    startingA, startingB = GradientDescent(startingA, startingB, xDataSet, yDataSet, .0001)\n",
    "    #print(\"A:\" + str(startingA))\n",
    "    #print(\"B:\" + str(startingB))\n",
    "    #matplotlib.pyplot.clf()\n",
    "    #matplotlib.pyplot.plot([start, end],[(startingA + (start * startingB)), (startingA + (end * startingB))], color='g')\n",
    "    #matplotlib.pyplot.scatter(xDataSet,yDataSet)\n",
    "    #matplotlib.pyplot.show()\n",
    "    #matplotlib.pyplot.savefig(\"sgd\" + str(i+1) + \".png\")"
   ]
  },
  {
   "cell_type": "markdown",
   "metadata": {},
   "source": [
    "# Using Least Squares"
   ]
  },
  {
   "cell_type": "code",
   "execution_count": 6,
   "metadata": {},
   "outputs": [],
   "source": [
    "for x,y in zip(xDataSet, yDataSet):\n",
    "    numerator += (x - xAverage)*(y - yAverage)\n",
    "    denominator += math.pow((x - xAverage), 2)\n",
    "\n",
    "b = (numerator/denominator)\n",
    "a = yAverage - (xAverage * b)\n",
    "\n",
    "leastSquares = 0.0\n",
    "leastSquaresGD = 0.0\n",
    "\n",
    "y1 = (b * start) + a\n",
    "y2 = (b * end) + a"
   ]
  },
  {
   "cell_type": "code",
   "execution_count": 7,
   "metadata": {},
   "outputs": [
    {
     "data": {
      "image/png": "[encoded data removed]",
      "text/plain": [
       "<Figure size 432x288 with 1 Axes>"
      ]
     },
     "metadata": {
      "needs_background": "light"
     },
     "output_type": "display_data"
    }
   ],
   "source": [
    "matplotlib.pyplot.clf()\n",
    "matplotlib.pyplot.scatter(xDataSet,yDataSet)\n",
    "matplotlib.pyplot.plot([start, end],[y1, y2], color='r')\n",
    "matplotlib.pyplot.show()\n",
    "#matplotlib.pyplot.savefig(\"lse.png\")"
   ]
  },
  {
   "cell_type": "markdown",
   "metadata": {},
   "source": [
    "# Mean Squared Error"
   ]
  },
  {
   "cell_type": "code",
   "execution_count": 3,
   "metadata": {},
   "outputs": [],
   "source": [
    "def MSE(xDataSet, yDataSet, aCurrent, bCurrent):\n",
    "    mse = 0.0\n",
    "    for x,y in zip(xDataSet, yDataSet):\n",
    "        mse += math.pow((y - (aCurrent + (bCurrent * x))), 2)\n",
    "    return mse/(len(xDataSet))"
   ]
  },
  {
   "cell_type": "code",
   "execution_count": 8,
   "metadata": {},
   "outputs": [],
   "source": [
    "leastSquares = MSE(xDataSet, yDataSet, a, b)\n",
    "leastSquaresGD = MSE(xDataSet, yDataSet, startingA, startingB)"
   ]
  },
  {
   "cell_type": "code",
   "execution_count": 9,
   "metadata": {},
   "outputs": [
    {
     "name": "stdout",
     "output_type": "stream",
     "text": [
      "Least Square: 3149.421413434294\n",
      "Least Square Gradient Descent: 3675.024352661304\n"
     ]
    }
   ],
   "source": [
    "print(\"Least Square: \" + str(leastSquares))\n",
    "print(\"Least Square Gradient Descent: \" + str(leastSquaresGD))"
   ]
  }
 ],
 "metadata": {
  "kernelspec": {
   "display_name": "Python 3",
   "language": "python",
   "name": "python3"
  },
  "language_info": {
   "codemirror_mode": {
    "name": "ipython",
    "version": 3
   },
   "file_extension": ".py",
   "mimetype": "text/x-python",
   "name": "python",
   "nbconvert_exporter": "python",
   "pygments_lexer": "ipython3",
   "version": "3.7.1"
  }
 },
 "nbformat": 4,
 "nbformat_minor": 2
}
