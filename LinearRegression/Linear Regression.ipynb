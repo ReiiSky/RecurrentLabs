{
 "cells": [
  {
   "cell_type": "markdown",
   "metadata": {},
   "source": [
    "# Linear Regression"
   ]
  },
  {
   "cell_type": "code",
   "execution_count": null,
   "metadata": {},
   "outputs": [],
   "source": [
    "import matplotlib.pyplot\n",
    "import numpy\n",
    "import math"
   ]
  },
  {
   "cell_type": "code",
   "execution_count": null,
   "metadata": {},
   "outputs": [],
   "source": [
    "def GradientDescent(aCurrent, bCurrent, xDataSet, yDataSet, learningRate):\n",
    "    aGradient = 0.0\n",
    "    bGradient = 0.0\n",
    "    N = float(zip(xDataSet))\n",
    "    for x,y in zip(xDataSet, yDataSet):\n",
    "        aGradient += -(2/N) * (y - ((bCurrent*x) + aCurrent))\n",
    "        bGradient += -(2/N) * x * (y - ((bCurrent * x) + aCurrent))\n",
    "    aNew = aCurrent - (learningRate * aGradient)\n",
    "    bNew = bCurrent - (learningRate * bGradient)\n",
    "    return [aNew, bNew]\n",
    "\n",
    "def MSE(xDataSet, yDataSet, aCurrent, bCurrent):\n",
    "    mse = 0.0\n",
    "    for x,y in zip(xDataSet, yDataSet):\n",
    "        mse += math.pow((y - (aCurrent + (bCurrent * x))), 2)\n",
    "    return mse"
   ]
  },
  {
   "cell_type": "code",
   "execution_count": null,
   "metadata": {},
   "outputs": [],
   "source": [
    "scale = 8.0\n",
    "start = 0.0\n",
    "end = 50.0\n",
    "increment = .5\n",
    "epoch = 20\n",
    "\n",
    "xDataSet = numpy.arange(start,end,increment)\n",
    "yDataSet = numpy.array([(i+numpy.random.normal(scale=scale)+5) for i in xDataSet])\n",
    "\n",
    "xAverage = numpy.average(xDataSet)\n",
    "yAverage = numpy.average(yDataSet)\n",
    "\n",
    "numerator = 0.0\n",
    "denominator = 0.0\n",
    "\n",
    "for x,y in zip(xDataSet, yDataSet):\n",
    "    numerator += (x - xAverage)*(y - yAverage)\n",
    "    denominator += math.pow((x - xAverage), 2)\n",
    "\n",
    "b = (numerator/denominator)\n",
    "a = yAverage - (xAverage * b)\n",
    "\n",
    "leastSquares = 0.0\n",
    "leastSquaresGD = 0.0\n",
    "\n",
    "y1 = (b * start) + a\n",
    "y2 = (b * end) + a\n",
    "\n",
    "#matplotlib.pyplot.clf()\n",
    "#matplotlib.pyplot.scatter(xDataSet,yDataSet)\n",
    "#matplotlib.pyplot.plot([start, end],[y1, y2], color='r')\n",
    "#matplotlib.pyplot.show()\n",
    "#matplotlib.pyplot.savefig(\"lse.png\")\n",
    "\n",
    "startingA = numpy.random.normal();\n",
    "startingB = numpy.random.normal();\n",
    "\n",
    "print(\"A: \" + str(startingA))\n",
    "print(\"B: \" + str(startingB))\n",
    "\n",
    "#matplotlib.pyplot.clf()\n",
    "#matplotlib.pyplot.plot([start, end],[(startingA + (start * startingB)), (startingA + (end * startingB))], color='g')\n",
    "#matplotlib.pyplot.scatter(xDataSet,yDataSet)\n",
    "#matplotlib.pyplot.show()\n",
    "#matplotlib.pyplot.savefig(\"sgd\" + str(0) + \".png\")\n",
    "\n",
    "for i in range(epoch):\n",
    "    startingA, startingB = stepGradient(startingA, startingB, xDataSet, yDataSet, .0001)\n",
    "\t#print(\"A:\" + str(startingA))\n",
    "\t#print(\"B:\" + str(startingB))\n",
    "\t#matplotlib.pyplot.clf()\n",
    "\t#matplotlib.pyplot.plot([start, end],[(startingA + (start * startingB)), (startingA + (end * startingB))], color='g')\n",
    "\t#matplotlib.pyplot.scatter(xDataSet,yDataSet)\n",
    "\t#matplotlib.pyplot.show()\n",
    "\t#matplotlib.pyplot.savefig(\"sgd\" + str(i+1) + \".png\")\n",
    "\n",
    "for x,y in zip(xDataSet, yDataSet):\n",
    "\tleastSquares += math.pow((y - (a + (b * x))), 2)\n",
    "\tleastSquaresGD += math.pow((y - (startingA + (startingB * x))), 2)\n",
    "\n",
    "print(\"Least Square: \" + str(leastSquares))\n",
    "print(\"Least Square Gradient Descent: \" + str(leastSquaresGD))\n"
   ]
  }
 ],
 "metadata": {
  "kernelspec": {
   "display_name": "Python 3",
   "language": "python",
   "name": "python3"
  },
  "language_info": {
   "codemirror_mode": {
    "name": "ipython",
    "version": 3
   },
   "file_extension": ".py",
   "mimetype": "text/x-python",
   "name": "python",
   "nbconvert_exporter": "python",
   "pygments_lexer": "ipython3",
   "version": "3.7.1"
  }
 },
 "nbformat": 4,
 "nbformat_minor": 2
}
