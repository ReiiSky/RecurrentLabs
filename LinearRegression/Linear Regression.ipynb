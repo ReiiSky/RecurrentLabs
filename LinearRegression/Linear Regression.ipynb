{
 "cells": [
  {
   "cell_type": "markdown",
   "metadata": {},
   "source": [
    "# Linear Regression"
   ]
  },
  {
   "cell_type": "markdown",
   "metadata": {},
   "source": [
    "Import Libaries"
   ]
  },
  {
   "cell_type": "code",
   "execution_count": 32,
   "metadata": {},
   "outputs": [],
   "source": [
    "import numpy\n",
    "import math\n",
    "import matplotlib.pyplot"
   ]
  },
  {
   "cell_type": "code",
   "execution_count": 33,
   "metadata": {},
   "outputs": [],
   "source": [
    "scale = 8.0\n",
    "start = 0.0\n",
    "end = 50.0\n",
    "increment = .5\n",
    "epoch = 20\n",
    "\n",
    "#Randomly Generate Data\n",
    "xDataSet = numpy.arange(start, end, increment)\n",
    "yDataSet = numpy.array([(i+numpy.random.normal(scale=scale)+5) for i in xDataSet])\n",
    "\n",
    "#Get Averages for Dataset\n",
    "xAverage = numpy.average(xDataSet)\n",
    "yAverage = numpy.average(yDataSet)\n",
    "\n",
    "numerator = 0.0\n",
    "denominator = 0.0"
   ]
  },
  {
   "cell_type": "code",
   "execution_count": 35,
   "metadata": {},
   "outputs": [],
   "source": [
    "def MSE(xDataSet, yDataSet, aCurrent, bCurrent):\n",
    "    mse = 0.0\n",
    "    for x,y in zip(xDataSet, yDataSet):\n",
    "        mse += math.pow((y - (aCurrent + (bCurrent * x))), 2)\n",
    "    return mse"
   ]
  },
  {
   "cell_type": "code",
   "execution_count": 36,
   "metadata": {},
   "outputs": [],
   "source": [
    "def GradientDescent(aCurrent, bCurrent, xDataSet, yDataSet, learningRate):\n",
    "    aGradient = 0.0\n",
    "    bGradient = 0.0\n",
    "    #N = float(zip(xDataSet))\n",
    "    for x,y in zip(xDataSet, yDataSet):\n",
    "        aGradient += -(2/len(xDataSet)) * (y - ((bCurrent*x) + aCurrent))\n",
    "        bGradient += -(2/len(xDataSet)) * x * (y - ((bCurrent * x) + aCurrent))\n",
    "    aNew = aCurrent - (learningRate * aGradient)\n",
    "    bNew = bCurrent - (learningRate * bGradient)\n",
    "    return [aNew, bNew]"
   ]
  },
  {
   "cell_type": "code",
   "execution_count": 50,
   "metadata": {},
   "outputs": [
    {
     "name": "stdout",
     "output_type": "stream",
     "text": [
      "A: 0.42422460063368805\n",
      "B: 0.0349332489218188\n"
     ]
    },
    {
     "data": {
      "image/png": "[encoded data removed]",
      "text/plain": [
       "<Figure size 432x288 with 1 Axes>"
      ]
     },
     "metadata": {
      "needs_background": "light"
     },
     "output_type": "display_data"
    },
    {
     "name": "stdout",
     "output_type": "stream",
     "text": [
      "Least Square: 15564.935317566657\n",
      "Least Square Gradient Descent: 6491.986595726959\n"
     ]
    },
    {
     "data": {
      "text/plain": [
       "<Figure size 432x288 with 0 Axes>"
      ]
     },
     "metadata": {},
     "output_type": "display_data"
    }
   ],
   "source": [
    "startingA = numpy.random.normal();\n",
    "startingB = numpy.random.normal();\n",
    "\n",
    "print(\"A: \" + str(startingA))\n",
    "print(\"B: \" + str(startingB))\n",
    "\n",
    "matplotlib.pyplot.clf()\n",
    "matplotlib.pyplot.plot([start, end],[(startingA + (start * startingB)), (startingA + (end * startingB))], color='g')\n",
    "matplotlib.pyplot.scatter(xDataSet,yDataSet)\n",
    "matplotlib.pyplot.show()\n",
    "matplotlib.pyplot.savefig(\"sgd\" + str(0) + \".png\")\n",
    "\n",
    "for i in range(epoch):\n",
    "    startingA, startingB = GradientDescent(startingA, startingB, xDataSet, yDataSet, .0001)\n",
    "    #print(\"A:\" + str(startingA))\n",
    "    #print(\"B:\" + str(startingB))\n",
    "    #matplotlib.pyplot.clf()\n",
    "    #matplotlib.pyplot.plot([start, end],[(startingA + (start * startingB)), (startingA + (end * startingB))], color='g')\n",
    "    #matplotlib.pyplot.scatter(xDataSet,yDataSet)\n",
    "    #matplotlib.pyplot.show()\n",
    "    #matplotlib.pyplot.savefig(\"sgd\" + str(i+1) + \".png\")\n",
    "\n",
    "\n",
    "leastSquaresGD = MSE(xDataSet, yDataSet, startingA, startingB) \n",
    "\n",
    "print(\"Least Square: \" + str(leastSquares))\n",
    "print(\"Least Square Gradient Descent: \" + str(leastSquaresGD))\n"
   ]
  },
  {
   "cell_type": "markdown",
   "metadata": {},
   "source": [
    "# Using Batch Gradient Descent"
   ]
  },
  {
   "cell_type": "markdown",
   "metadata": {},
   "source": [
    "# Using Least Squares"
   ]
  },
  {
   "cell_type": "code",
   "execution_count": null,
   "metadata": {},
   "outputs": [],
   "source": [
    "for x,y in zip(xDataSet, yDataSet):\n",
    "    numerator += (x - xAverage)*(y - yAverage)\n",
    "    denominator += math.pow((x - xAverage), 2)\n",
    "\n",
    "b = (numerator/denominator)\n",
    "a = yAverage - (xAverage * b)\n",
    "\n",
    "leastSquares = 0.0\n",
    "leastSquaresGD = 0.0\n",
    "\n",
    "y1 = (b * start) + a\n",
    "y2 = (b * end) + a"
   ]
  },
  {
   "cell_type": "code",
   "execution_count": null,
   "metadata": {},
   "outputs": [],
   "source": [
    "matplotlib.pyplot.clf()\n",
    "matplotlib.pyplot.scatter(xDataSet,yDataSet)\n",
    "matplotlib.pyplot.plot([start, end],[y1, y2], color='r')\n",
    "matplotlib.pyplot.show()\n",
    "matplotlib.pyplot.savefig(\"lse.png\")"
   ]
  },
  {
   "cell_type": "code",
   "execution_count": null,
   "metadata": {},
   "outputs": [],
   "source": [
    "leastSquares = MSE(xDataSet, yDataSet, a, b)"
   ]
  }
 ],
 "metadata": {
  "kernelspec": {
   "display_name": "Python 3",
   "language": "python",
   "name": "python3"
  },
  "language_info": {
   "codemirror_mode": {
    "name": "ipython",
    "version": 3
   },
   "file_extension": ".py",
   "mimetype": "text/x-python",
   "name": "python",
   "nbconvert_exporter": "python",
   "pygments_lexer": "ipython3",
   "version": "3.7.1"
  }
 },
 "nbformat": 4,
 "nbformat_minor": 2
}
